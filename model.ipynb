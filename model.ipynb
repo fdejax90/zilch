{
 "cells": [
  {
   "cell_type": "code",
   "execution_count": null,
   "id": "72abd03b-6e85-4a16-ba0d-0d21f53045a1",
   "metadata": {},
   "outputs": [],
   "source": [
    "%load_ext autoreload\n",
    "%autoreload 2"
   ]
  },
  {
   "cell_type": "code",
   "execution_count": null,
   "id": "a6610f50-3b38-4b21-be9c-47d9246213b9",
   "metadata": {
    "is_executing": true
   },
   "outputs": [],
   "source": [
    "import category_encoders as ce\n",
    "import matplotlib.pyplot as plt\n",
    "import numpy as np\n",
    "import pandas as pd\n",
    "import plotly.express as px\n",
    "import pandas as pd\n",
    "import matplotlib.pyplot as plt\n",
    "import matplotlib.ticker as ticker\n",
    "import seaborn as sns\n",
    "import xgboost as xgb\n",
    "from sklearn.preprocessing import RobustScaler\n",
    "from sklearn.metrics import make_scorer, f1_score, roc_auc_score, auc, recall_score\n",
    "from sklearn.model_selection import train_test_split, StratifiedKFold, GridSearchCV, RandomizedSearchCV\n",
    "from sklearn.linear_model import LogisticRegression\n",
    "from sklearn.neighbors import KNeighborsClassifier\n",
    "from imblearn.over_sampling import SMOTE\n",
    "from sklearn.ensemble import RandomForestClassifier\n",
    "from imblearn.ensemble import BalancedRandomForestClassifier\n",
    "from imblearn.pipeline import Pipeline\n",
    "from sklearn.pipeline import Pipeline as Pipeline_skl\n",
    "from imblearn.under_sampling import RandomUnderSampler\n",
    "from sklearn.preprocessing import OneHotEncoder, TargetEncoder\n",
    "from sklearn.compose import ColumnTransformer\n",
    "from utils import get_result, train_xgb\n",
    "\n",
    "pd.set_option('display.float_format', '{:,.2f}'.format)\n",
    "sns.set(style=\"whitegrid\")"
   ]
  },
  {
   "cell_type": "code",
   "execution_count": null,
   "id": "043de025-f4f4-4705-a679-8e6520ce8228",
   "metadata": {},
   "outputs": [],
   "source": [
    "df = pd.read_pickle('process_df.pickle')\n",
    "df.head()"
   ]
  },
  {
   "cell_type": "code",
   "execution_count": null,
   "id": "61988118-5ec8-4c6a-95ba-61d7342746cd",
   "metadata": {},
   "outputs": [],
   "source": [
    "df_1 = df.copy()"
   ]
  },
  {
   "cell_type": "code",
   "execution_count": null,
   "id": "8d02bc1d-8e37-43e4-b68f-a369a3a46222",
   "metadata": {},
   "outputs": [],
   "source": [
    "# Dropping columns that are not needed\n",
    "df_1.drop(['nameOrig','nameDest'],axis=1,inplace=True)\n",
    "# df.drop(['step', 'nameOrig','nameDest'],axis=1,inplace=True)\n",
    "df_1.head()"
   ]
  },
  {
   "cell_type": "code",
   "execution_count": null,
   "id": "4e856bc1-2c81-40dd-9705-543b28437575",
   "metadata": {},
   "outputs": [],
   "source": [
    "SEARCH_DICT, X_train, y_train, X_test, y_test, pipe = train_xgb(df_1)"
   ]
  },
  {
   "cell_type": "code",
   "execution_count": null,
   "id": "c8dd1407-2bdd-4a0a-bdb8-928968861b8f",
   "metadata": {},
   "outputs": [],
   "source": [
    "pipe"
   ]
  },
  {
   "cell_type": "code",
   "execution_count": null,
   "id": "179471fd-29da-453f-9396-c147f9ea16ac",
   "metadata": {},
   "outputs": [],
   "source": [
    "get_result(SEARCH_DICT, X_train, y_train, X_test, y_test)"
   ]
  },
  {
   "cell_type": "code",
   "execution_count": null,
   "id": "d13c2738-0218-412e-b55e-c406549aae79",
   "metadata": {},
   "outputs": [],
   "source": [
    "# df.drop(['step'],axis=1,inplace=True)"
   ]
  },
  {
   "cell_type": "code",
   "execution_count": null,
   "id": "54545237-3035-485a-b5ef-d7539d5da6af",
   "metadata": {},
   "outputs": [],
   "source": [
    "# Remove step\n",
    "SEARCH_DICT, X_train, y_train, X_test, y_test, pipe = train_xgb(df, numerical_cols = ['amount','oldbalanceOrg','newbalanceOrig','oldbalanceDest','newbalanceDest'])"
   ]
  },
  {
   "cell_type": "code",
   "execution_count": null,
   "id": "67dd229c-13dd-4bd7-93ed-23999b754cc0",
   "metadata": {},
   "outputs": [],
   "source": [
    "pipe"
   ]
  },
  {
   "cell_type": "code",
   "execution_count": null,
   "id": "164e4508-7193-4b9f-b811-c0f306caca37",
   "metadata": {},
   "outputs": [],
   "source": [
    "get_result(SEARCH_DICT, X_train, y_train, X_test, y_test)"
   ]
  },
  {
   "cell_type": "markdown",
   "id": "937f88a6-fc9b-40d5-b373-907f7a4f81d1",
   "metadata": {},
   "source": [
    "# Fine tuning"
   ]
  },
  {
   "cell_type": "code",
   "execution_count": null,
   "id": "aecfc939-5df3-4065-bc41-449ea379c5fb",
   "metadata": {},
   "outputs": [],
   "source": [
    "df_2 = df.copy()\n",
    "\n",
    "log_columns = ['amount', 'oldbalanceOrg', 'newbalanceOrig', 'oldbalanceDest', 'newbalanceDest']\n",
    "df_2[log_columns].hist(bins=10, figsize=(10, 10))"
   ]
  },
  {
   "cell_type": "code",
   "execution_count": null,
   "id": "b18a3f4f-ab4e-4f00-afaa-7f37872dff67",
   "metadata": {},
   "outputs": [],
   "source": [
    "for column in log_columns:\n",
    "    df_2[column] = np.log1p(df_2[column])\n",
    "df_2.head()"
   ]
  },
  {
   "cell_type": "code",
   "execution_count": null,
   "id": "514e83a7-7d3d-4359-bedb-3c6a101e4e66",
   "metadata": {},
   "outputs": [],
   "source": [
    "df_2[log_columns].hist(bins=10, figsize=(10, 10))"
   ]
  },
  {
   "cell_type": "code",
   "execution_count": null,
   "id": "079afd90-65da-4238-b5f6-d4be63bc971b",
   "metadata": {},
   "outputs": [],
   "source": [
    "SEARCH_DICT, X_train, y_train, X_test, y_test, pipe = train_xgb(df_2, numerical_cols = log_columns)"
   ]
  },
  {
   "cell_type": "code",
   "execution_count": null,
   "id": "749cdfce-6245-45f7-95c2-f329484e5bf7",
   "metadata": {},
   "outputs": [],
   "source": [
    "pipe"
   ]
  },
  {
   "cell_type": "code",
   "execution_count": null,
   "id": "68094913-0635-45fe-91b2-ec3e69774b75",
   "metadata": {},
   "outputs": [],
   "source": [
    "# log transform numerical variables\n",
    "get_result(SEARCH_DICT, X_train, y_train, X_test, y_test)"
   ]
  },
  {
   "cell_type": "code",
   "execution_count": null,
   "id": "a1b21e55-14fa-4d69-a635-7eb91ea7b158",
   "metadata": {},
   "outputs": [],
   "source": [
    "X=df_2.drop('isFraud',axis=1)\n",
    "y=df_2['isFraud']\n",
    "\n",
    "\n",
    "# Doing train_test_split\n",
    "X_train, X_test, y_train, y_test=train_test_split(X, y, train_size=0.7)"
   ]
  },
  {
   "cell_type": "code",
   "execution_count": null,
   "id": "433ff2b7-81b4-4356-8df6-b71678f37d69",
   "metadata": {},
   "outputs": [],
   "source": [
    "#  scale_pos_weight = total non fraudulent transaction / total fraudulent transactions"
   ]
  },
  {
   "cell_type": "code",
   "execution_count": null,
   "id": "ea855854-2e5f-41f4-bef7-c296df699be2",
   "metadata": {},
   "outputs": [],
   "source": [
    "scale_pos_weight = len(y_train[y_train==0]) / len(y_train[y_train==1])\n",
    "scale_pos_weight"
   ]
  },
  {
   "cell_type": "code",
   "execution_count": null,
   "id": "1abd952d-0f34-460c-9e17-21f67864efcc",
   "metadata": {},
   "outputs": [],
   "source": [
    "from sklearn.preprocessing import OneHotEncoder, RobustScaler\n",
    "robust_scaler = RobustScaler()\n",
    "numerical_cols = log_columns\n",
    "\n",
    "skf=StratifiedKFold(n_splits=3, shuffle=True, random_state=42)"
   ]
  },
  {
   "cell_type": "code",
   "execution_count": null,
   "id": "fa8913e7-3e9f-4f5b-990a-0d925e0d657b",
   "metadata": {},
   "outputs": [],
   "source": [
    "rf_model = RandomForestClassifier(random_state=42)\n",
    "lgr_model = LogisticRegression(random_state=42)\n",
    "brf_model = BalancedRandomForestClassifier(sampling_strategy=0.1, random_state=42)\n",
    "xgb_model = xgb.XGBClassifier(random_state=42)\n",
    "\n",
    "MODELS = [rf_model, lgr_model, brf_model, xgb_model]\n",
    "MODELS = [rf_model, brf_model, xgb_model]\n",
    "MODELS = [xgb_model]\n",
    "\n",
    "\n",
    "SEARCH = 'RandomizedSearchCV' # 'GridSearchCV'\n",
    "smote = False\n",
    "under = False\n",
    "\n",
    "scoring = {\n",
    "    'f1': make_scorer(f1_score),\n",
    "    'roc_auc': make_scorer(roc_auc_score),\n",
    "    'recall': make_scorer(recall_score)\n",
    "}\n",
    "\n",
    "\n",
    "categorical_cols = ['type']\n",
    "# Preprocessing for categorical data\n",
    "categorical_transformer = Pipeline(steps=[\n",
    "    # ('imputer', SimpleImputer(strategy='most_frequent')),\n",
    "('onehot', OneHotEncoder(handle_unknown='error'))\n",
    "])\n",
    "\n",
    "count_col = ['nameDest']\n",
    "count_transformer = Pipeline(steps=[\n",
    "     ('count', ce.CountEncoder())\n",
    "])\n",
    "\n",
    "woe_col = ['nameDest']\n",
    "woe_transformer = Pipeline(steps=[\n",
    "     ('woe', ce.woe.WOEEncoder())\n",
    "])\n",
    "\n",
    "target_enc_col = ['nameOrig']\n",
    "target_transformer = Pipeline(steps=[\n",
    "     ('target', TargetEncoder())\n",
    "])\n",
    "\n",
    "# Bundle preprocessing for numerical and categorical data\n",
    "preprocessor = ColumnTransformer(\n",
    "    transformers=[\n",
    "        # ('woe', woe_transformer, woe_col),\n",
    "        # ('target', target_transformer, target_enc_col),\n",
    "        # ('count', count_transformer, count_col),\n",
    "        ('cat', categorical_transformer, categorical_cols),\n",
    "        (\"num\", robust_scaler, numerical_cols)\n",
    "    ])\n",
    "\n",
    "\n",
    "\n",
    "SEARCH_DICT = {}\n",
    "\n",
    "for model in MODELS:\n",
    "    STEPS = [('preprocessor', preprocessor),  (\"clf\", model)]\n",
    "    if smote:\n",
    "        STEPS.insert(1, ('over', SMOTE(sampling_strategy=0.1, random_state=42)))\n",
    "    if under:\n",
    "        STEPS.insert(0, ('under', RandomUnderSampler(sampling_strategy=0.1, random_state=42)))\n",
    "\n",
    "    pipe = Pipeline(steps=STEPS)\n",
    "\n",
    "    if type(model).__name__ == 'LogisticRegression':\n",
    "        param_grid = {\n",
    "        'clf__C': [1e-07, 1e-06, 1e-05],\n",
    "        'clf__penalty': ['l2']\n",
    "    }\n",
    "    \n",
    "    elif type(model).__name__ in ['RandomForestClassifier', 'BalancedRandomForestClassifier']:\n",
    "        param_grid = {\n",
    "        'clf__n_estimators': [150, 200],\n",
    "        'clf__max_depth': [None, 10, 20],\n",
    "        'clf__min_samples_split': [20, 25],\n",
    "        'clf__min_samples_leaf': [2, 3],\n",
    "         'clf__class_weight': ['balanced', 'balanced_subsample']\n",
    "    }\n",
    "    \n",
    "    \n",
    "    elif type(model).__name__ == 'XGBClassifier':\n",
    "        param_grid = {\n",
    "        'clf__n_estimators': [250, 350],\n",
    "        'clf__scale_pos_weight': [320, 330, 340],\n",
    "    }\n",
    "\n",
    "\n",
    "    if SEARCH == 'GridSearchCV':\n",
    "        search = GridSearchCV(pipe, param_grid=param_grid, cv=skf, scoring=scoring, refit='f1', return_train_score=True)\n",
    "    else:\n",
    "        search = RandomizedSearchCV(pipe, param_distributions=param_grid, n_iter=3, scoring=scoring, refit='f1', cv=skf)\n",
    "\n",
    "    # Fit the model to your training data\n",
    "    search.fit(X_train, y_train)\n",
    "    SEARCH_DICT[type(model).__name__] = search"
   ]
  },
  {
   "cell_type": "code",
   "execution_count": null,
   "id": "8b568fbd-276c-4806-8e7d-75b23b73b59d",
   "metadata": {},
   "outputs": [],
   "source": [
    "pipe"
   ]
  },
  {
   "cell_type": "code",
   "execution_count": null,
   "id": "5ce123bb-d75f-476c-9e23-86b01fe79861",
   "metadata": {},
   "outputs": [],
   "source": [
    "get_result(SEARCH_DICT, X_train, y_train, X_test, y_test)"
   ]
  }
 ],
 "metadata": {
  "kernelspec": {
   "display_name": "Python 3 (ipykernel)",
   "language": "python",
   "name": "python3"
  },
  "language_info": {
   "codemirror_mode": {
    "name": "ipython",
    "version": 3
   },
   "file_extension": ".py",
   "mimetype": "text/x-python",
   "name": "python",
   "nbconvert_exporter": "python",
   "pygments_lexer": "ipython3",
   "version": "3.10.6"
  }
 },
 "nbformat": 4,
 "nbformat_minor": 5
}
