version https://git-lfs.github.com/spec/v1
oid sha256:de50d2d08fa04ee3b0a77a8b58f738b3949a4e4379a50eabae0162dd17ce3e1e
size 339380
