{
 "cells": [
  {
   "cell_type": "code",
   "execution_count": null,
   "id": "e1edfa4c-406d-4ace-a604-4d925795b92c",
   "metadata": {},
   "outputs": [],
   "source": [
    "%load_ext autoreload\n",
    "%autoreload 2"
   ]
  },
  {
   "cell_type": "code",
   "execution_count": null,
   "id": "a6610f50-3b38-4b21-be9c-47d9246213b9",
   "metadata": {
    "is_executing": true
   },
   "outputs": [],
   "source": [
    "import matplotlib.pyplot as plt\n",
    "import numpy as np\n",
    "import pandas as pd\n",
    "import plotly.express as px\n",
    "import matplotlib.ticker as ticker\n",
    "import plotly.graph_objects as go\n",
    "from plotly.subplots import make_subplots\n",
    "import seaborn as sns\n",
    "from scipy.stats import iqr\n",
    "from sklearn.preprocessing import LabelEncoder\n",
    "from utils import unzip_file\n",
    "\n",
    "pd.set_option('display.float_format', '{:,.2f}'.format)\n",
    "sns.set(style=\"whitegrid\")"
   ]
  },
  {
   "cell_type": "code",
   "execution_count": null,
   "id": "5bafa950-4449-4592-944b-9392179b28bf",
   "metadata": {},
   "outputs": [],
   "source": [
    "extracted_files = unzip_file('archive.zip',  '.')\n",
    "print(\"Extracted files:\")\n",
    "for file in extracted_files:\n",
    "    print(file)"
   ]
  },
  {
   "cell_type": "code",
   "execution_count": null,
   "id": "f82d8805-9f56-4d3f-96ae-35625ccdf517",
   "metadata": {},
   "outputs": [],
   "source": [
    "file = 'PS_20174392719_1491204439457_log.csv'"
   ]
  },
  {
   "cell_type": "code",
   "execution_count": null,
   "id": "13654be3-78ea-44ca-9fed-30c50a291375",
   "metadata": {},
   "outputs": [],
   "source": [
    "df = pd.read_csv(file)\n",
    "df.head()"
   ]
  },
  {
   "cell_type": "code",
   "execution_count": null,
   "id": "bb800667-1eb9-4b3e-af34-ca49238024c9",
   "metadata": {},
   "outputs": [],
   "source": [
    "df.shape"
   ]
  },
  {
   "cell_type": "markdown",
   "id": "f6824196-4e82-462c-9770-327ea322e659",
   "metadata": {},
   "source": [
    "# Data sanity check"
   ]
  },
  {
   "cell_type": "code",
   "execution_count": null,
   "id": "180e7886-a846-402c-b398-6507fa1c88c9",
   "metadata": {},
   "outputs": [],
   "source": [
    "df = df.drop('isFlaggedFraud', axis=1)"
   ]
  },
  {
   "cell_type": "code",
   "execution_count": null,
   "id": "96746b9e-360a-43bb-9b2d-6dcb67132237",
   "metadata": {
    "scrolled": true
   },
   "outputs": [],
   "source": [
    "df.info()"
   ]
  },
  {
   "cell_type": "code",
   "execution_count": null,
   "id": "6aa06c53-d9e2-4d87-9f95-e560b844e78e",
   "metadata": {},
   "outputs": [],
   "source": [
    "df.isnull().sum()"
   ]
  },
  {
   "cell_type": "code",
   "execution_count": null,
   "id": "80d1a29f-63db-475d-b104-22fe8c1ecfa1",
   "metadata": {},
   "outputs": [],
   "source": [
    "df.duplicated().sum()"
   ]
  },
  {
   "cell_type": "code",
   "execution_count": null,
   "id": "35723550-2371-423f-9843-04fb414c3d07",
   "metadata": {},
   "outputs": [],
   "source": [
    "df.describe()"
   ]
  },
  {
   "cell_type": "code",
   "execution_count": null,
   "id": "b0102dd5-bffc-4bcf-bb58-fc2975eada96",
   "metadata": {},
   "outputs": [],
   "source": [
    "df.dtypes"
   ]
  },
  {
   "cell_type": "code",
   "execution_count": null,
   "id": "50a649f3-de9c-479a-9adb-e4b3e9807211",
   "metadata": {},
   "outputs": [],
   "source": [
    "df.isFraud.value_counts(normalize=True)*100"
   ]
  },
  {
   "cell_type": "code",
   "execution_count": null,
   "id": "0ec5d91a-b5f0-4fac-b2b3-d0fcf8922199",
   "metadata": {},
   "outputs": [],
   "source": [
    "value_count_trans = df.isFraud.value_counts()\n",
    "value_count_trans"
   ]
  },
  {
   "cell_type": "code",
   "execution_count": null,
   "id": "0d907508-585f-47c9-bb18-267b8df95665",
   "metadata": {},
   "outputs": [],
   "source": [
    "print(f'Dataset with a 1 to {value_count_trans[0] / value_count_trans[1]} ratio in the fraud to non fraud classes')"
   ]
  },
  {
   "cell_type": "markdown",
   "id": "4c7bc42b-720d-4240-9acb-564d990925a3",
   "metadata": {},
   "source": [
    "We can observe explicit class imbalance, meaning that the \"Fraud\" class has significantly fewer instances compared to \"Not Fraud\" class"
   ]
  },
  {
   "cell_type": "code",
   "execution_count": null,
   "id": "6fabf342-48e5-4bb5-bd1a-19c6d3ac2e7f",
   "metadata": {},
   "outputs": [],
   "source": [
    "type_count = df['type'].value_counts()\n",
    "type_count"
   ]
  },
  {
   "cell_type": "code",
   "execution_count": null,
   "id": "e83de187-8988-436d-9e21-eedc8827bd2b",
   "metadata": {},
   "outputs": [],
   "source": [
    "non_fraud_df = df[df.isFraud == 0]\n",
    "fraud_df = df[df.isFraud == 1]\n",
    "fraud_df['type'].value_counts()"
   ]
  },
  {
   "cell_type": "markdown",
   "id": "495b5152-39c2-46ea-87a3-a407356972b2",
   "metadata": {},
   "source": [
    "We have only `CASH_OUT` and `TRANSFER` payement type as fraudulent, so we can discard the others for the modelization."
   ]
  },
  {
   "cell_type": "code",
   "execution_count": null,
   "id": "6c96c137-855d-4de3-a3a0-418c0f00904a",
   "metadata": {},
   "outputs": [],
   "source": [
    "fraud_amounts_by_type = fraud_df.groupby(\"type\")[\"amount\"].sum()\n",
    "fraud_amounts_by_type"
   ]
  },
  {
   "cell_type": "code",
   "execution_count": null,
   "id": "cd3a3a62-ee90-4903-b157-6eee4c2ed73b",
   "metadata": {},
   "outputs": [],
   "source": [
    "describe_non_fraud_df = pd.DataFrame(pd.DataFrame.describe(non_fraud_df.amount))\n",
    "describe_fraud_df = pd.DataFrame(pd.DataFrame.describe(fraud_df.amount))\n",
    "\n",
    "describe_non_fraud_df = describe_non_fraud_df.rename({'amount': 'amount (Non fraud transactions)'}, axis=1)\n",
    "describe_fraud_df = describe_fraud_df.rename({'amount': 'amount (Fraud transactions)'}, axis=1)\n",
    "\n",
    "pd.concat([describe_non_fraud_df, describe_fraud_df], axis=1)"
   ]
  },
  {
   "cell_type": "markdown",
   "id": "21f13942-26a3-4259-aca0-7e77c18e8b57",
   "metadata": {},
   "source": [
    "- Fraud transactions, on average, have higher amounts versus non-fraud transactions.\n",
    "- std for fraud transactions is notably higher, higher volatility in amount.\n",
    "- Minimum amount for fraud transactions = £0, maybe is below £1 ?\n",
    "- 3rd quartile shows more outliers amounts in fraud transactions"
   ]
  },
  {
   "cell_type": "code",
   "execution_count": null,
   "id": "f193124e-e5eb-440e-9899-a15a736c2ac4",
   "metadata": {},
   "outputs": [],
   "source": [
    "fig = px.pie(non_fraud_df, values='amount', names='type', title='Non Fraud Transactions Amount by Type')\n",
    "fig.update_layout(legend=dict(\n",
    "    yanchor=\"top\",\n",
    "    y=0.99,\n",
    "    xanchor=\"left\",\n",
    "    x=0.01\n",
    "))\n",
    "fig.show()"
   ]
  },
  {
   "cell_type": "code",
   "execution_count": null,
   "id": "a09e9aed-b19e-4ce2-b6da-6615b1099d5a",
   "metadata": {
    "scrolled": true
   },
   "outputs": [],
   "source": [
    "fig = px.pie(fraud_df, values='amount', names='type', title='Fraud Transactions Amount by Type')\n",
    "fig.update_layout(legend=dict(\n",
    "    yanchor=\"top\",\n",
    "    y=0.99,\n",
    "    xanchor=\"left\",\n",
    "    x=0.2\n",
    "))\n",
    "fig.show()"
   ]
  },
  {
   "cell_type": "code",
   "execution_count": null,
   "id": "f2aedc54-821c-4d2f-9529-c680303e91d8",
   "metadata": {
    "scrolled": true
   },
   "outputs": [],
   "source": [
    "fraud_df['nameOrig'].str[0].unique(), fraud_df['nameDest'].str[0].unique()"
   ]
  },
  {
   "cell_type": "markdown",
   "id": "a824f643-7ff1-4bbb-aeef-fcd0bdc1eea9",
   "metadata": {},
   "source": [
    "We only have customer to customer transactions being fradulent"
   ]
  },
  {
   "cell_type": "code",
   "execution_count": null,
   "id": "b845ba7f-3bd0-4af7-ac4d-373c33dad40d",
   "metadata": {},
   "outputs": [],
   "source": [
    "fig = px.scatter(x=range(len(fraud_df)), y=fraud_df['newbalanceOrig'], title='Customer New Balance for Fraud Transactions', labels={'x':'Transaction id',\n",
    "                                                                                                                                    'y':'Customer New Balance'},\n",
    "                width=600, height=400)\n",
    "fig.show()"
   ]
  },
  {
   "cell_type": "code",
   "execution_count": null,
   "id": "4fe75ab3-c490-43de-8499-53136e1eeed3",
   "metadata": {},
   "outputs": [],
   "source": [
    "def find_missing_integers(lst):\n",
    "    return [i for i in range(min(lst) + 1, max(lst)) if i not in lst]\n",
    "\n",
    "# There is no missing time step\n",
    "find_missing_integers(df.step)"
   ]
  },
  {
   "cell_type": "code",
   "execution_count": null,
   "id": "6c6db463-6112-4a6e-b05f-b70374eb5e24",
   "metadata": {},
   "outputs": [],
   "source": [
    "px.histogram(df, x='step', y='amount', color='isFraud')"
   ]
  },
  {
   "cell_type": "markdown",
   "id": "13ebcd33-b0f6-4bbc-b34a-e42fe5f297b6",
   "metadata": {},
   "source": [
    "- It seems there are missing transactions / or we track specific customers as there are very few transactions between 50-120 and from 410 steps onward\n",
    "\n",
    "- We can't modelize spending behaviour."
   ]
  },
  {
   "cell_type": "code",
   "execution_count": null,
   "id": "691ce13b-89e2-4758-923c-b602382f1cb0",
   "metadata": {},
   "outputs": [],
   "source": [
    "px.histogram(df, x='step', color='isFraud')"
   ]
  },
  {
   "cell_type": "code",
   "execution_count": null,
   "id": "d8e3a118-8e99-4c50-bec1-61680dfec8c9",
   "metadata": {},
   "outputs": [],
   "source": [
    "df.nameOrig.value_counts()"
   ]
  },
  {
   "cell_type": "markdown",
   "id": "94acf764-03e7-4d08-9117-40cfb606b785",
   "metadata": {},
   "source": [
    "We have very few transactions over time for a given person, maybe a person has different `nameOrig` but it is hard to link it."
   ]
  },
  {
   "cell_type": "code",
   "execution_count": null,
   "id": "40397e9c-3273-4d81-875c-bf53fb00f7a8",
   "metadata": {},
   "outputs": [],
   "source": [
    "merchant_transaction_orig_proportion = (df['nameOrig'].str.startswith('M').sum()/df.shape[0])*100\n",
    "customer_transaction_orig_proportion = (df['nameOrig'].str.startswith('C').sum()/df.shape[0])*100\n",
    "\n",
    "merchant_transaction_dest_proportion = (df['nameDest'].str.startswith('M').sum()/df.shape[0])*100\n",
    "customer_transaction_dest_proportion = (df['nameDest'].str.startswith('C').sum()/df.shape[0])*100"
   ]
  },
  {
   "cell_type": "code",
   "execution_count": null,
   "id": "0ee45ff3-940f-47fb-9d87-d49e3e15a932",
   "metadata": {},
   "outputs": [],
   "source": [
    "labels = ['Merchant','Customer']\n",
    "orig_values = [merchant_transaction_orig_proportion, customer_transaction_orig_proportion]\n",
    "dest_values = [merchant_transaction_dest_proportion, customer_transaction_dest_proportion]\n",
    "\n",
    "\n",
    "fig = make_subplots(rows=1, cols=2, specs=[[{'type':'domain'}, {'type':'domain'}]])\n",
    "fig.add_trace(go.Pie(labels=labels, values=orig_values, name='Origin', textinfo='label+percent', insidetextorientation='radial'),\n",
    "              1, 1)\n",
    "fig.add_trace(go.Pie(labels=labels, values=dest_values, name='Destination', textinfo='label+percent', insidetextorientation='radial'),\n",
    "              1, 2)\n",
    "\n",
    "# Use `hole` to create a donut-like pie chart\n",
    "fig.update_traces(hole=.9, hoverinfo=\"label+percent+name\")\n",
    "\n",
    "fig.update_layout(\n",
    "    title_text=\"Transaction Origin / Destination\",\n",
    "    # Add annotations in the center of the donut pies.\n",
    "    annotations=[dict(text='Origin', x=0.18, y=0.5, font_size=20, showarrow=False),\n",
    "                 dict(text='Destination', x=0.82, y=0.5, font_size=20, showarrow=False)],\n",
    "legend=dict(\n",
    "    yanchor=\"middle\",\n",
    "    y=0.99,\n",
    "    xanchor=\"center\",\n",
    "    x=0.05))\n",
    "fig.show()"
   ]
  },
  {
   "cell_type": "code",
   "execution_count": null,
   "id": "0af2c4d1-5c8e-4538-8a7f-c0edf5d3d043",
   "metadata": {},
   "outputs": [],
   "source": [
    "merchant_fraud_transaction_orig_proportion = (fraud_df['nameOrig'].str.startswith('M').sum()/df.shape[0])*100\n",
    "customer_fraud_transaction_orig_proportion = (fraud_df['nameOrig'].str.startswith('C').sum()/df.shape[0])*100\n",
    "\n",
    "merchant_fraud_transaction_dest_proportion = (fraud_df['nameDest'].str.startswith('M').sum()/df.shape[0])*100\n",
    "customer_fraud_transaction_dest_proportion = (fraud_df['nameDest'].str.startswith('C').sum()/df.shape[0])*100"
   ]
  },
  {
   "cell_type": "code",
   "execution_count": null,
   "id": "4a765dba-5751-4971-8ec1-ba4705be9951",
   "metadata": {},
   "outputs": [],
   "source": [
    "labels = ['Merchant','Customer']\n",
    "orig_values = [merchant_fraud_transaction_orig_proportion, customer_fraud_transaction_orig_proportion]\n",
    "dest_values = [merchant_fraud_transaction_dest_proportion, customer_fraud_transaction_dest_proportion]\n",
    "\n",
    "\n",
    "fig = make_subplots(rows=1, cols=2, specs=[[{'type':'domain'}, {'type':'domain'}]])\n",
    "fig.add_trace(go.Pie(labels=labels, values=orig_values, name='Origin', textinfo='label+percent', insidetextorientation='radial'),\n",
    "              1, 1)\n",
    "fig.add_trace(go.Pie(labels=labels, values=dest_values, name='Destination', textinfo='label+percent', insidetextorientation='radial'),\n",
    "              1, 2)\n",
    "\n",
    "# Use `hole` to create a donut-like pie chart\n",
    "fig.update_traces(hole=.9, hoverinfo=\"label+percent+name\")\n",
    "\n",
    "fig.update_layout(\n",
    "    title_text=\"Transaction Origin / Destination\",\n",
    "    # Add annotations in the center of the donut pies.\n",
    "    annotations=[dict(text='Origin', x=0.18, y=0.5, font_size=20, showarrow=False),\n",
    "                 dict(text='Destination', x=0.82, y=0.5, font_size=20, showarrow=False)],\n",
    "legend=dict(\n",
    "    yanchor=\"middle\",\n",
    "    y=0.99,\n",
    "    xanchor=\"center\",\n",
    "    x=0.05))\n",
    "fig.show()"
   ]
  },
  {
   "cell_type": "code",
   "execution_count": null,
   "id": "0922e324-5fef-4599-adf4-663e1102b2b1",
   "metadata": {},
   "outputs": [],
   "source": [
    "fig = px.imshow(df[['amount', 'oldbalanceOrg',\n",
    "       'newbalanceOrig', 'oldbalanceDest', 'newbalanceDest',\n",
    "       'isFraud']].corr(), text_auto='.3f', aspect=\"auto\")\n",
    "fig.show()"
   ]
  },
  {
   "cell_type": "markdown",
   "id": "402f8966-d5be-430c-ba73-e21eb86cab6a",
   "metadata": {},
   "source": [
    "- correlation between:\n",
    "    - newbalanceOrig / oldbalanceOrg\n",
    "    - newbalanceDest / oldbalanceDest"
   ]
  },
  {
   "cell_type": "code",
   "execution_count": null,
   "id": "9c4b7873-1690-4374-83a7-4542b9b5e10d",
   "metadata": {},
   "outputs": [],
   "source": [
    "fig = make_subplots(rows=1, cols=2, \n",
    "                    subplot_titles=(\"Histogram of Amount from fraudulent transactions before transformation\", \"Histogram of Amount from fraudulent transactions after transformation\"))\n",
    "\n",
    "fig.append_trace(go.Histogram(x = fraud_df['amount']), row = 1, col = 1)\n",
    "\n",
    "fig.append_trace(go.Histogram(x = 1/(np.log1p(fraud_df['amount'])), nbinsx=40), row = 1, col = 2)\n",
    "\n",
    "fig.update_layout(height=600, width= np.inf, title_text=\"Distribution of  Amount from fraudulent transactions before and after 1/log(1+y) transformation\", showlegend=False, title_x = 0.5)\n",
    "fig.show()\n"
   ]
  },
  {
   "cell_type": "code",
   "execution_count": null,
   "id": "b9de55db-4499-43c5-9020-f610edfcfe5e",
   "metadata": {},
   "outputs": [],
   "source": [
    "process_df = df.copy()"
   ]
  },
  {
   "cell_type": "code",
   "execution_count": null,
   "id": "5c8ab75c-2d00-4e54-ae17-7cce848a6138",
   "metadata": {},
   "outputs": [],
   "source": [
    "types_to_exclude = ['CASH_IN', 'DEBIT', 'PAYMENT']\n",
    "process_df = process_df[~process_df['type'].isin(types_to_exclude)]"
   ]
  },
  {
   "cell_type": "markdown",
   "id": "b7623f94-300e-46f1-a533-14fa09388905",
   "metadata": {},
   "source": [
    "Transactions of types `CASH_IN`, `DEBIT`, and `PAYMENT` is excluded."
   ]
  },
  {
   "cell_type": "code",
   "execution_count": null,
   "id": "e64c01b1-7b96-4979-a9c7-366f14a16372",
   "metadata": {},
   "outputs": [],
   "source": [
    "print(f\"Dataset reduced by: {df.shape[0] - process_df.shape[0]} transactions\")"
   ]
  },
  {
   "cell_type": "code",
   "execution_count": null,
   "id": "2322f2b2-e01e-4abc-9f1d-c3840b843da5",
   "metadata": {},
   "outputs": [],
   "source": [
    "fraud_df = process_df[process_df.isFraud == 1]\n",
    "non_fraud_df = process_df[process_df.isFraud == 0]"
   ]
  },
  {
   "cell_type": "code",
   "execution_count": null,
   "id": "1cc1704f-2666-4914-aaba-cec0233b8b5a",
   "metadata": {},
   "outputs": [],
   "source": [
    "((sum(fraud_df['nameOrig'].value_counts() > 1) / len(fraud_df['nameOrig'].unique())) * 100,\n",
    "(sum(non_fraud_df['nameOrig'].value_counts() > 1) / len(non_fraud_df['nameOrig'].unique())) * 100,\n",
    "(sum(process_df['nameOrig'].value_counts() > 1) / len(process_df['nameOrig'].unique())) * 100)"
   ]
  },
  {
   "cell_type": "markdown",
   "id": "05b32a9b-7d24-41b0-98a9-beb3ab45a8dc",
   "metadata": {},
   "source": [
    "We have very little `nameOrig` having more than one transaction."
   ]
  },
  {
   "cell_type": "code",
   "execution_count": null,
   "id": "36bd36ba-a011-4774-a184-60174cff697b",
   "metadata": {},
   "outputs": [],
   "source": [
    "((sum(fraud_df['nameDest'].value_counts() > 1) / len(fraud_df['nameDest'].unique())) * 100,\n",
    "(sum(non_fraud_df['nameDest'].value_counts() > 1) / len(non_fraud_df['nameDest'].unique())) * 100,\n",
    "(sum(process_df['nameDest'].value_counts() > 1) / len(process_df['nameDest'].unique())) * 100)"
   ]
  },
  {
   "cell_type": "markdown",
   "id": "c902acbf-79fc-4cac-ac61-2f5122fbc6a4",
   "metadata": {},
   "source": [
    "### Outliers"
   ]
  },
  {
   "cell_type": "code",
   "execution_count": null,
   "id": "28763fa1-8793-43d7-92f8-cb9694804deb",
   "metadata": {},
   "outputs": [],
   "source": [
    "numeric_columns = ['amount', 'oldbalanceOrg', 'newbalanceOrig', 'oldbalanceDest', 'newbalanceDest']\n",
    "for column in numeric_columns:\n",
    "    plt.figure(figsize=(12, 8))\n",
    "    sns.boxplot(x=np.log1p(process_df[column]))  # Applying log transformation\n",
    "    plt.title(f'Box plot for log-transformed {column}')\n",
    "    plt.show()"
   ]
  },
  {
   "cell_type": "markdown",
   "id": "8ca18b3a-f1f7-4dc9-8942-20c06d36c641",
   "metadata": {},
   "source": [
    "The `amount`, `oldbalanceOrg`, `newbalanceOrig`, `oldbalanceDest` and `newbalanceDest` columns were log-transformed using `np.log1p(` to make the distributions more symmetric.\n",
    "\n",
    "The output showcases the log-transformed values for each column, and the subsequent box plots visually represent the distribution of these log-transformed values. It's important to note that the box plots are based on log-transformed values for better visualization and outlier detection.\n",
    "\n",
    "The presence of numerous points outside the box in the box plots indicates the potential existence of outliers or extreme values. These outliers may significantly deviate from the majority of the data and could impact the statistical analysis or modeling processes."
   ]
  },
  {
   "cell_type": "markdown",
   "id": "6fa8361c-786d-43d2-9a36-ef723bf8b89b",
   "metadata": {},
   "source": [
    "# Save the data"
   ]
  },
  {
   "cell_type": "code",
   "execution_count": null,
   "id": "50a428cc-f72f-4e7b-b614-281e38a8c21f",
   "metadata": {},
   "outputs": [],
   "source": [
    "process_df.to_pickle('process_df.pickle')"
   ]
  }
 ],
 "metadata": {
  "kernelspec": {
   "display_name": "Python 3 (ipykernel)",
   "language": "python",
   "name": "python3"
  },
  "language_info": {
   "codemirror_mode": {
    "name": "ipython",
    "version": 3
   },
   "file_extension": ".py",
   "mimetype": "text/x-python",
   "name": "python",
   "nbconvert_exporter": "python",
   "pygments_lexer": "ipython3",
   "version": "3.10.6"
  }
 },
 "nbformat": 4,
 "nbformat_minor": 5
}
